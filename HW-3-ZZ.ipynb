{
 "cells": [
  {
   "cell_type": "markdown",
   "metadata": {},
   "source": [
    "# Stochastic Processes in Biology\n",
    "## Due time: 11/2/2020\n",
    "\n"
   ]
  },
  {
   "cell_type": "markdown",
   "metadata": {},
   "source": [
    "1. In this course, we have oulined how to derive the Foller-Planck equation for the distribution of the membrane potential under potential under excitatory input(equation (8.41))\n",
    "\n",
    "$$ \\tau_m\\frac{\\partial}{\\partial t}p(u,t) = - \\frac{\\partial}{\\partial u}[-u+\\tau_m\\sum_kv_k(t)w_k] p(\\mu,t)\n",
    "+\\frac{1}{2}[\\tau_m\\sum_kv_k(t)w_k^2]\\frac{\\partial^2}{\\partial\\mu^2}p(u,t), Eq.(8.41)$$\n",
    "\n"
   ]
  },
  {
   "cell_type": "markdown",
   "metadata": {},
   "source": [
    "(1) Complete the missing steps in this derivation, starting from Eq. (8.37) and ending with Eq.(8.41).\n",
    "\n",
    "$$ P^{trans}(u,t+\\Delta t| u',t) = [1-\\Delta t\\sum_k v_k(t)]\\delta(u-u'e^{-\\Delta t/\\tau_m})+ \\Delta t\\sum_kv_k(t)\\delta(u-u'e^{-\\Delta/\\tau_m}-w_k),  Eq.(8.37)$$\n",
    "\n",
    "$$ p(u,t+\\Delta t) = \\int P^{trans}(u,t+\\Delta|u',t)p(u',t)du' $$\n",
    "\n",
    "$$ p(u,t+\\Delta t) = [1-\\Delta t\\sum_k v_k(t)]\\int\\delta(u-u'e^{-\\Delta t/\\tau_m})p(u',t)du' + \\Delta t\\sum_kv_k(t)\\int\\delta(u-u'e^{-\\Delta/\\tau_m}-w_k)p(u',t)du' $$\n",
    "\n",
    "$$ p(u,t+\\Delta t) = [1-\\Delta t\\sum_k v_k(t)]e^{\\Delta t/\\tau_m}\\int\\delta(e^{\\Delta t/\\tau_m}u-u')p(u',t)du' + \\Delta t\\sum_kv_k(t)e^{\\Delta t/\\tau_m}\\int\\delta(e^{\\Delta t/\\tau_m}u-u'-e^{\\Delta t/\\tau_m}w_k)p(u',t)du' $$\n",
    "\n",
    "$$ p(u,t+\\Delta t) = [1-\\Delta t\\sum_k v_k(t)]e^{\\Delta t/\\tau_m}\\int\\delta(u'-e^{\\Delta t/\\tau_m}u)p(u',t)du' + \\Delta t\\sum_kv_k(t)e^{\\Delta t/\\tau_m}\\int\\delta(u'-e^{\\Delta t/\\tau_m}u+e^{\\Delta t/\\tau_m}w_k)p(u',t)du' $$\n",
    "\n",
    "$$ p(u,t+\\Delta t) = [1-\\Delta t\\sum_k v_k(t)]e^{\\Delta t/\\tau_m}p(e^{\\Delta t/\\tau_m}u,t) + \\Delta t\\sum_kv_k(t)e^{\\Delta t/\\tau_m}p(e^{\\Delta t/\\tau_m}u-e^{\\Delta t/\\tau_m}w_k,t) $$\n",
    "\n",
    "$$ p(u,t+\\Delta t) = e^{\\Delta t/\\tau_m}\\lbrace p(e^{\\Delta t/\\tau_m}u,t)+ \\Delta t\\sum_kv_k(t)[p(e^{\\Delta t/\\tau_m}(u-w_k),t)]\\rbrace$$\n",
    "\n",
    "$$ e^{\\Delta t/\\tau_m} = 1 + \\frac{\\Delta t}{\\tau_m} + ... $$\n",
    "\n",
    "$$ e^{\\Delta t/\\tau_m} \\approx 1 $$\n",
    "\n",
    "$$ p(e^{\\Delta t/\\tau_m}u,t)\\approx p(u+\\frac{\\Delta t}{\\tau_m}u,t)\\approx p(u,t)+\\frac{\\Delta t}{\\tau_m}u\\frac{\\partial}{\\partial u}p(u,t)$$\n",
    "\n",
    "$$ p(e^{\\Delta t/\\tau_m}(u-w_k),t)\\approx p(u-w_k,t)+\\frac{\\Delta t}{\\tau_m}u\\frac{\\partial}{\\partial u}p(u-w_k,t)$$\n",
    "\n",
    "$$ p(u,t+\\Delta t) \\approx  p(u,t)+\\frac{\\Delta t}{\\tau_m}u\\frac{\\partial}{\\partial u}p(u,t)+ \\Delta t\\sum_kv_k(t)[p(u-w_k,t) - p(u,t) + \\frac{\\Delta t}{\\tau_m}u\\frac{\\partial}{\\partial u}p(u-w_k,t)-\\frac{\\Delta t}{\\tau_m}u\\frac{\\partial}{\\partial u}p(u-w_k,t)]$$\n",
    "\n",
    "$$ \\Delta t^2 \\approx 0 $$\n",
    "\n",
    "$$ p(u,t+\\Delta t) \\approx \\frac{\\Delta t}{\\tau_m}p(u,t)+\\frac{\\Delta t}{\\tau_m}u\\frac{\\partial}{\\partial u}p(u,t)+\\Delta t\\sum_kv_k(t)[p(u-w_k,t) - p(u,t)] $$\n",
    "\n",
    "$$ \\frac{p(u,t+\\Delta t)-p(u,t)}{\\Delta t} = \\frac{1}{\\tau_m}u\\frac{\\partial}{\\partial u}p(u,t)+\\sum_kv_k(t)[p(u-w_k,t) - p(u,t)] $$\n",
    "\n",
    "$$ p(u-w_k,t) - p(u,t) \\approx -w_k\\frac{\\partial}{\\partial u}p(u,t)+ \\frac{1}{2}w_k^2\\frac{\\partial^2}{\\partial u^2}p(u,t) $$\n",
    "\n",
    "$$ \\tau_m\\frac{\\partial}{\\partial t}p(u,t) = u\\frac{\\partial}{\\partial u}p(u,t) - \\tau_m\\sum_kv_k(t)w_k\\frac{\\partial}{\\partial u}p(u,t)+\\frac{1}{2}[\\sum_kv_k(t)w_k^2]\\frac{\\partial^2}{\\partial u^2}p(u,t) $$"
   ]
  },
  {
   "cell_type": "markdown",
   "metadata": {},
   "source": [
    "(2) Verify that Eq. (8.45) is a solution of the equation with free boundary conditions by direct substitution.\n",
    "\n",
    "$$ p(u,t) = \\frac{1}{\\sqrt{2\\pi\\langle\\Delta u^2(t)\\rangle}}exp{\\lbrace-\\frac{[u(t|\\hat{t})-u_0(t)]^2}{2\\langle\\Delta u^2(t)\\rangle}\\rbrace}, Eq. (8.45) $$\n",
    "\n"
   ]
  },
  {
   "cell_type": "markdown",
   "metadata": {},
   "source": [
    "$$ \\tau_m\\frac{\\partial}{\\partial t}p(u,t) = u\\frac{\\partial}{\\partial u}p(u,t) - \\tau_m\\sum_kv_k(t)w_k\\frac{\\partial}{\\partial u}p(u,t)+\\frac{1}{2}[\\sum_kv_k(t)w_k^2]\\frac{\\partial^2}{\\partial u^2}p(u,t) $$\n",
    "\n",
    "$$ [u-RI_0]\\frac{\\partial}{\\partial u}p(u,t)+\\frac{1}{2}\\sigma^2\\frac{\\partial^2}{\\partial u^2}p(u,t)=0 $$\n"
   ]
  },
  {
   "cell_type": "markdown",
   "metadata": {},
   "source": [
    "(3) Simulate an integrate and fire neuron with Poisson input without threshold to verify that after sufficient time the membrane potential follows the distribution given by Eq.(8.46). You can do this either by running a long simulation, and sampling the potential at different times, or by running many simulations\n",
    "\n",
    "$$ p(u, \\infty) = \\frac{1}{\\sqrt{\\pi}}\\frac{1}{\\sigma}exp{\\lbrace\\frac{[u-RI_0]^2}{\\sigma^2}}\\rbrace, Eq. (8.46) $$\n",
    "\n",
    "$$ RI(t) = \\tau_m\\sum_k v_k(t)w_k $$\n",
    "$$ \\sigma^2(t) = \\tau_m\\sum_kv_k(t)w_k^2 $$"
   ]
  },
  {
   "cell_type": "code",
   "execution_count": 45,
   "metadata": {},
   "outputs": [],
   "source": [
    "# Import packages needed.\n",
    "import numpy as np\n",
    "import random\n",
    "import matplotlib.pyplot as plt\n",
    "from scipy.stats import variation"
   ]
  },
  {
   "cell_type": "code",
   "execution_count": 175,
   "metadata": {},
   "outputs": [],
   "source": [
    "def poisson_spike(v,dt,T,I0):\n",
    "    time = np.arange(dt,T+dt,dt)\n",
    "    spikes = np.zeros_like(time)\n",
    "    spikes_time = np.zeros_like(time)\n",
    "    num = 0\n",
    "    for t in range(len(time)):\n",
    "        input_p = np.random.poisson(lam=dt*v)\n",
    "        if input_p >0:\n",
    "            spikes_time[num] = time[t]\n",
    "            spikes[t] = I0\n",
    "            num +=1\n",
    "        else:\n",
    "            spikes[t] = 0\n",
    "        \n",
    "    return spikes_time,spikes\n",
    "\n",
    "\n",
    "def poisson_input(spikes, dt, tau_m,R, T):\n",
    "    time = np.arange(dt,T+dt,dt)\n",
    "    u = np.zeros_like(time)\n",
    "    for i in range(len(time)-1):\n",
    "        u[i+1] = u[i]+(dt/tau_m)*(-u[i]+R*spikes[i])\n",
    "        \n",
    "    return time, u\n",
    "\n",
    "def normal_dist( tau_m,u, R, I0, v, w=1):\n",
    "    sigma = np.sqrt(tau_m*v*(w**2))\n",
    "    return ((1/np.sqrt(np.pi))*(1/sigma)*np.exp((u-R*I0)**2/sigma**2))\n",
    "    \n",
    "    "
   ]
  },
  {
   "cell_type": "code",
   "execution_count": 156,
   "metadata": {},
   "outputs": [],
   "source": [
    "T = 20000\n",
    "dt = 0.001\n",
    "tau_m = 1 \n",
    "R = 500\n",
    "I0 = 0.5\n",
    "v = 50\n",
    "\n",
    "spikes_time,spikes = poisson_spike(v,dt,T,I0)\n",
    "time, U = poisson_input(spikes,dt,tau_m,R,T)\n",
    "\n"
   ]
  },
  {
   "cell_type": "code",
   "execution_count": 158,
   "metadata": {},
   "outputs": [
    {
     "data": {
      "text/plain": [
       "[<matplotlib.lines.Line2D at 0x25939510320>]"
      ]
     },
     "execution_count": 158,
     "metadata": {},
     "output_type": "execute_result"
    },
    {
     "data": {
      "image/png": "[encoded data removed]",
      "text/plain": [
       "<Figure size 432x288 with 1 Axes>"
      ]
     },
     "metadata": {
      "needs_background": "light"
     },
     "output_type": "display_data"
    }
   ],
   "source": [
    "plt.plot(time,U)"
   ]
  },
  {
   "cell_type": "code",
   "execution_count": 159,
   "metadata": {},
   "outputs": [
    {
     "data": {
      "text/plain": [
       "(array([ 149.,  543., 1244., 1965., 2213., 2048.,  908.,  505.,  267.,\n",
       "         157.]),\n",
       " array([ 9.96337716, 10.37807956, 10.79278197, 11.20748437, 11.62218678,\n",
       "        12.03688918, 12.45159159, 12.86629399, 13.28099639, 13.6956988 ,\n",
       "        14.1104012 ]),\n",
       " <a list of 10 Patch objects>)"
      ]
     },
     "execution_count": 159,
     "metadata": {},
     "output_type": "execute_result"
    },
    {
     "data": {
      "image/png": "[encoded data removed]",
      "text/plain": [
       "<Figure size 432x288 with 1 Axes>"
      ]
     },
     "metadata": {
      "needs_background": "light"
     },
     "output_type": "display_data"
    }
   ],
   "source": [
    "stationary = U[round(T/2):T-1]\n",
    "plt.hist(stationary)"
   ]
  },
  {
   "cell_type": "code",
   "execution_count": 176,
   "metadata": {},
   "outputs": [
    {
     "name": "stdout",
     "output_type": "stream",
     "text": [
      "inf\n"
     ]
    }
   ],
   "source": [
    "\n",
    "# u_sim = np.linspace(9,15,1000)\n",
    "# pu = np.zeros_like(u_sim)\n",
    "tau_m = 1 \n",
    "R = 500\n",
    "I0 = 0.5\n",
    "v = 50\n",
    "u = 10\n",
    "p= normal_dist(tau_m,u, R, I0, v, w=1)\n",
    "print(p)"
   ]
  },
  {
   "cell_type": "markdown",
   "metadata": {},
   "source": [
    "2. Use the derivation in Lecture 16, and the notes from the book by Gardiner to compute the expected time for a leaky integrate and fire neuron to fire. Assume a threshold $ \\theta $, resting potential set to 0, and $\\tau_m = 1$. Assume that the imput $RI_0$ is constant, and that the variance $\\sigma^2(t) = \\sigma^2$ is constant as well.\n",
    "\n",
    "Simulate an integrate and fire neuron with threshold to show that this expected time is a good approximation. Inparticular, you will need to choose a synaptic weight $w_k = w$ (all equal), and input rate $v_k(t) = v$ (all equal and constant) to define the parameters $RI_0$ and $\\sigma^2$. "
   ]
  },
  {
   "cell_type": "markdown",
   "metadata": {},
   "source": [
    "$$ A(x)\\frac{\\partial}{\\partial x}T(x)+ \\frac{1}{2}B(x)\\frac{\\partial^2}{\\partial x^2}T(x) = -1 $$\n",
    "\n",
    "$$ A(x) = -x + \\sum_kv_k(t)w_k = -x + vw = -x + RI_0 $$\n",
    "$$ B(x) = \\sum_kv_k(t)w_k^2 = vw^2 = \\sigma^2 $$\n",
    "\n",
    "If I set $T(\\theta) = T(0) = 0 $\n",
    "according to the derivation in Lecture 16,\n",
    "\n",
    "$$ T(x) = \\frac{\\theta e^{\\frac{2a(\\theta-x)}{b}}(-1+e^{\\frac{2ax}{b}})-x}{(-1+e^\\frac{2a\\theta}{b})/a} $$"
   ]
  },
  {
   "cell_type": "code",
   "execution_count": 202,
   "metadata": {},
   "outputs": [],
   "source": [
    "def poisson_thres(spikes,dt,u_rest,u_thres,tau_m,R,T,w):\n",
    "    time = np.arange(dt,T+dt,dt)\n",
    "    u = np.zeros_like(time)\n",
    "    u_saved = np.zeros_like(time)\n",
    "    for i in range(len(time)-1):\n",
    "        u[i+1] = u[i]+(dt/tau_m)*(-u[i]+w*R*spikes[i])\n",
    "        \n",
    "        if(u[i+1]>=u_thres):\n",
    "#             u_saved[i+1] = u_thres\n",
    "            u[i+1] = u_rest\n",
    "        else:\n",
    "            u_saved[i+1] = u[i+1]\n",
    "        \n",
    "    return time, u_saved"
   ]
  },
  {
   "cell_type": "code",
   "execution_count": 211,
   "metadata": {},
   "outputs": [],
   "source": [
    "T = 2000\n",
    "dt = 0.001\n",
    "tau_m = 1 \n",
    "R = 500\n",
    "I0 = 0.5\n",
    "v = 50\n",
    "u_rest = 0\n",
    "u_thres = 50\n",
    "w = 5\n",
    "\n",
    "spikes_time,spikes = poisson_spike(v,dt,T,I0)\n",
    "time, U = poisson_thres(spikes,dt,u_rest,u_thres,tau_m,R,T,w)"
   ]
  },
  {
   "cell_type": "code",
   "execution_count": 214,
   "metadata": {},
   "outputs": [
    {
     "data": {
      "text/plain": [
       "(0, 80)"
      ]
     },
     "execution_count": 214,
     "metadata": {},
     "output_type": "execute_result"
    },
    {
     "data": {
      "image/png": "[encoded data removed]",
      "text/plain": [
       "<Figure size 432x288 with 1 Axes>"
      ]
     },
     "metadata": {
      "needs_background": "light"
     },
     "output_type": "display_data"
    }
   ],
   "source": [
    "plt.plot(time,U)\n",
    "plt.xlim(0,50)\n",
    "plt.ylim(0,80)"
   ]
  },
  {
   "cell_type": "code",
   "execution_count": 215,
   "metadata": {},
   "outputs": [
    {
     "data": {
      "text/plain": [
       "(array([124415., 108107., 126680., 142655., 165759., 190794., 230237.,\n",
       "        274584., 358399., 278370.]),\n",
       " array([ 0.        ,  4.99997002,  9.99994004, 14.99991006, 19.99988009,\n",
       "        24.99985011, 29.99982013, 34.99979015, 39.99976017, 44.99973019,\n",
       "        49.99970022]),\n",
       " <a list of 10 Patch objects>)"
      ]
     },
     "execution_count": 215,
     "metadata": {},
     "output_type": "execute_result"
    },
    {
     "data": {
      "image/png": "[encoded data removed]",
      "text/plain": [
       "<Figure size 432x288 with 1 Axes>"
      ]
     },
     "metadata": {
      "needs_background": "light"
     },
     "output_type": "display_data"
    }
   ],
   "source": [
    "plt.hist(U)"
   ]
  },
  {
   "cell_type": "code",
   "execution_count": 216,
   "metadata": {},
   "outputs": [
    {
     "name": "stdout",
     "output_type": "stream",
     "text": [
      "30.192945138587998\n",
      "13.748522914460311\n"
     ]
    }
   ],
   "source": [
    "print(np.mean(U))\n",
    "print(np.std(U))"
   ]
  },
  {
   "cell_type": "markdown",
   "metadata": {},
   "source": [
    "3. Suppose that the times between spikes are distributed according to a gamma distribution, $\\Gamma(\\alpha, \\beta)$. \n",
    "\n",
    "Compare the coefficient of variation of the inter-spike interval.\n"
   ]
  },
  {
   "cell_type": "code",
   "execution_count": 44,
   "metadata": {},
   "outputs": [],
   "source": [
    "def gamma_spike(v,T,I0,size = 10**5):\n",
    "    \n",
    "    spikes = np.zeros(size)\n",
    "    spikes_time = np.zeros(size)\n",
    "    time = np.zeros(size)\n",
    "    num = 0\n",
    "    t = 0\n",
    "    i = 0\n",
    "    \n",
    "    while t< T:\n",
    "        \n",
    "        dt = np.random.gamma(shape = 0.1)\n",
    "        input_p = np.random.poisson(lam=dt*v)\n",
    "        if input_p >0:\n",
    "            spikes_time[num] = t\n",
    "            spikes[num] = I0\n",
    "            num +=1\n",
    "        else:\n",
    "            spikes[num] = 0\n",
    "            \n",
    "        t += dt\n",
    "        time[i] = t\n",
    "        i += 1 \n",
    "    return time,spikes_time,spikes"
   ]
  },
  {
   "cell_type": "code",
   "execution_count": 51,
   "metadata": {},
   "outputs": [
    {
     "name": "stdout",
     "output_type": "stream",
     "text": [
      "The coefficien of variation of the inter-spike interval is  1.5890823647679082\n"
     ]
    }
   ],
   "source": [
    "T = 2000\n",
    "I0 = 0.5\n",
    "v = 50\n",
    "\n",
    "\n",
    "time,spikes_time,spikes = gamma_spike(v,T,I0,size = 10**5)\n",
    "\n",
    "spikes_interval = []\n",
    "for i in range(1,len(spikes_time)):\n",
    "    if spikes_time[i] != 0:\n",
    "        interval = spikes_time[i]-spikes_time[i-1]\n",
    "        spikes_interval.append(interval)\n",
    "spikes_interval = np.array(spikes_interval)\n",
    "    \n",
    "print('The coefficien of variation of the inter-spike interval is ',variation(spikes_interval))"
   ]
  },
  {
   "cell_type": "markdown",
   "metadata": {},
   "source": [
    "A special case of the gamma distribution is the Erlang distribution. This is the distribution of the sum of k is exponentially distributed random variables with parameter $\\lambda$. Find the coefficient of variation for an inter-event time that follows the Erlang distribution with fixed $\\lambda$ and increasing k. Interpret our result."
   ]
  },
  {
   "cell_type": "code",
   "execution_count": 54,
   "metadata": {},
   "outputs": [],
   "source": [
    "from scipy.stats import erlang\n",
    "\n",
    "inter_event = []\n",
    "for j in range(1,len(time)):\n",
    "    if time[j] != 0:\n",
    "        delta_t = time[j]-time[j-1]\n",
    "        inter_event.append(delta_t)\n",
    "inter_event = np.array(inter_event)\n",
    "\n"
   ]
  },
  {
   "cell_type": "code",
   "execution_count": 55,
   "metadata": {},
   "outputs": [
    {
     "name": "stdout",
     "output_type": "stream",
     "text": [
      "<scipy.stats._distn_infrastructure.rv_frozen object at 0x0000016BCB385B38>\n"
     ]
    }
   ],
   "source": [
    "print(rv)"
   ]
  },
  {
   "cell_type": "code",
   "execution_count": 43,
   "metadata": {},
   "outputs": [
    {
     "data": {
      "text/plain": [
       "1912"
      ]
     },
     "execution_count": 43,
     "metadata": {},
     "output_type": "execute_result"
    }
   ],
   "source": [
    "# cv of inter-event time of Erlang distribution\n",
    "k_list = [1,2,3,4,5]\n",
    "def gamma_spike(v,T,I0,size = 10**5):\n",
    "\n",
    "    spikes = np.zeros(size)\n",
    "    spikes_time = np.zeros(size)\n",
    "    time = np.zeros(size)\n",
    "    num = 0\n",
    "    t = 0\n",
    "    i = 0\n",
    "    \n",
    "    while t< T:\n",
    "        \n",
    "        dt = np.random.gamma(shape = 0.1)\n",
    "        input_p = np.random.poisson(lam=dt*v)\n",
    "        if input_p >0:\n",
    "            spikes_time[num] = t\n",
    "            spikes[num] = I0\n",
    "            num +=1\n",
    "        else:\n",
    "            spikes[num] = 0\n",
    "            \n",
    "        t += dt\n",
    "        time[i] = t\n",
    "        i += 1 \n",
    "    return time,spikes_time,spikes"
   ]
  },
  {
   "cell_type": "markdown",
   "metadata": {},
   "source": [
    "4. Two Moran process with two alleles, a and A, with mutation but without selection has transition rates.\n",
    "\n",
    "$$ T(n+1|n) = (1-u)(\\frac{n}{N})(1-\\frac{n}{N})+v(1-\\frac{n}{N})^2 $$\n",
    "\n",
    "$$ T(n-1|n) = (1-v)(1-\\frac{n}{N})(\\frac{n}{N})+u(\\frac{n}{N})^2 $$\n",
    "\n",
    "where P(n,t) is the probability that there are n copies of allele a at time t, u is the rate of mutation from a to A and v the rate of mutation from A to a. The master equation for this process is \n",
    "\n",
    "$$ \\frac{dP(n,t)}{dt} = P(n,t)(-T(n+1|n)-T(n-1|n)) + P(n+1,t)T(n|n+1)+P(n-1,t)T(n|n-1) $$\n",
    "\n",
    "Setting x = n/N, Taylor expand the master equation retaining only terms up to order $1/N^2$ to derive the Fokker Planck equation for this system."
   ]
  },
  {
   "cell_type": "markdown",
   "metadata": {},
   "source": [
    "$$ \\frac{dP(n,t)}{dt} = P(n+1,t)T(n|n+1)+P(n-1,t)T(n|n-1)-P(n,t)(T(n+1|n)+T(n-1|n)) $$\n",
    "\n",
    "$$ \\frac{dP(n,t)}{dt} = P(n+1,t)T(n-1|n)+P(n-1,t)T(n+1|n)-P(n,t)(T(n+1|n)+T(n-1|n)) $$\n",
    "\n",
    "$$ \\frac{\\partial P}{\\partial t} = P(x+1/N,t)T(x-1/N|x)+P(x-1/N,t)T(x+1/N|x)-P(x,t)(T(x+1/N|x)+T(x-1/N|x)) $$\n",
    "\n",
    "because:\n",
    "\n",
    "$$ P(x+1/N,t)=P(x,t)+\\frac{1}{N}\\frac{\\partial P}{\\partial x}+\\frac{1}{2N^2}\\frac{\\partial^2 P}{\\partial x^2}+O(1/N)^3 $$\n",
    "\n",
    "\n",
    "$$ P(x-1/N,t)=P(x,t)-\\frac{1}{N}\\frac{\\partial P}{\\partial x}+\\frac{1}{2N^2}\\frac{\\partial^2 P}{\\partial x^2}+O(1/N)^3  $$\n",
    "\n",
    "$$ T(x|x+1/N)=(1-u)(1-x-1/N)(x+1/N)+v(1-x-1/N)^2 $$\n",
    "\n",
    "$$ T(x|x-1/N)=(1-v)(x-1/N)(1-x+1/N)+u(x-1/N)^2 $$\n",
    "\n",
    "$$ \\frac{\\partial P}{\\partial t} = \\frac{1}{N}\\frac{\\partial}{\\partial x}[(ux-v(1-x))P]+\\frac{1}{2}\\frac{\\partial^2}{\\partial x^2}[x(1-x)P] $$\n",
    "if $\\tau = 2t/N^2$\n",
    "\n",
    "$$ \\frac{\\partial P}{\\partial \\tau} = \\frac{\\partial}{\\partial x}[(uNx/2-vN(1-x)/2)P]+\\frac{1}{2}\\frac{\\partial^2}{\\partial x^2}[x(1-x)P] $$"
   ]
  },
  {
   "cell_type": "markdown",
   "metadata": {},
   "source": [
    "5. In this question you will estimate the hitting time via simulation for the two-step adaptation process(Lecture 17). Initialize the population such that all individuals have genotype 1. Assume that genotype 1 mutates to genotype 2 at rate $\\mu_{12}$ and genotype 2 mutates to genotypes 3 at $\\mu_{23}$. By simulating a haploid Moran process, estimate the expected time for the population to produce an individual with genotype 3, for mutation rates (i) $\\mu_{12}=\\mu_{23}=0.1/N$, (ii) $\\mu_{12}=\\mu_{23}=1/N$ and (iii) $\\mu_{12}=\\mu_{23}=10/N$, using N = 1000 in all cases. How do the results compare to the naive expectation that the waiting time should be ~ $1/N^2$ ?"
   ]
  },
  {
   "cell_type": "markdown",
   "metadata": {},
   "source": [
    "naive expectation of waiting time:\n",
    "\n",
    "(i) $\\mu$=0.1/N, N = 1000,\n",
    "the expected waiting time is \n",
    "$$ N^{-2} << \\mu << N^{-1}, \\tau \\sim 1/(N\\mu^{1.5}) = 10^3 $$  \n",
    "\n",
    "(ii) $\\mu$=1/N, N = 1000,\n",
    "$$ \\mu \\sim AN^{-1},A = 1,\\tau \\sim \\mu^{-1} = 10^3 $$ \n",
    "\n",
    "(iii) $\\mu$=10/N, N = 1000,\n",
    "$$ \\mu \\sim AN^{-1},A = 10,\\tau \\sim \\mu^{-1} = 10^2 $$ \n"
   ]
  },
  {
   "cell_type": "markdown",
   "metadata": {},
   "source": [
    "Simulation in Haploid Moran model:\n",
    "\n",
    "$$ n_1 = N-n_2 $$\n",
    "\n",
    "$$ P(X_{t+1}=n_2+1|X_t=n_2) = (\\frac{n_2}{N}+\\frac{n_1}{N}u)(\\frac{n_1}{N}) $$\n",
    "\n",
    "$$ P(X_{t+1}=n_2-1|X_t=n_2) = (\\frac{n_1}{N}(1-\\mu)\\frac{n_2}{N}) $$\n",
    "\n",
    "$$ P(X_{t+1}=n_2|X_t=n_2) = 1 - P(X_{t+1}=n_2+1|X_t=n_2) - P(X_{t+1}=n_2-1|X_t=n_2) $$\n",
    "\n",
    "$$ P(X_{t+1}=n_3+1|X_t=n_3) = (\\frac{n_3}{n_2+n_3}+\\frac{n_2}{n_2+n_3}\\mu)(\\frac{n_2}{n_2+n_3}) $$\n",
    "\n",
    "$$ P(X_{t+1}=n_3-1|X_t=n_3) = \\frac{n_2}{n_2+n_3}(1-\\mu)\\frac{n_3}{n_2+n_3} $$\n",
    "\n",
    "$$ P(X_{t+1}=n_3|X_t=n_3) = 1 - P(X_{t+1}=n_3+1|X_t=n_3) - P(X_{t+1}=n_3-1|X_t=n_3) $$"
   ]
  },
  {
   "cell_type": "code",
   "execution_count": 13,
   "metadata": {},
   "outputs": [],
   "source": [
    "def moran_2_step(N, n2, n3, mu):\n",
    "    \n",
    "    time_steps = 0\n",
    "    \n",
    "    while n2 < N:\n",
    "        \n",
    "        prob_birth_2 = (n2/N + (N-n2)/N*mu)*((N-n2)/N)\n",
    "        prob_death_2 = ((N-n2)/N)*(1-mu)*(n2/N)\n",
    "        prob_stat_2 = 1 - prob_birth_2 - prob_death_2\n",
    "        event_index_2 = np.random.choice(3, p = [prob_birth_2,prob_death_2,prob_stat_2])\n",
    "        if event_index_2 == 0:\n",
    "            n2 = n2+1\n",
    "        elif event_index_2 == 1:\n",
    "            n2 = n2-1\n",
    "        \n",
    "        if n2 != 0:\n",
    "            prob_birth_3 = (n3/(n2+n3) + n2/(n2+n3)*mu)*(n2/(n2+n3))\n",
    "            prob_death_3 = (n2/(n2+n3))*(1-mu)*(n3/(n2+n3))\n",
    "            prob_stat_3 = 1 - prob_birth_3 - prob_death_3\n",
    "            event_index_3 = np.random.choice(3, p = [prob_birth_3,prob_death_3,prob_stat_3])\n",
    "            if event_index_3 == 0:\n",
    "                n3 = n3 + 1\n",
    "            elif event_index_3 == 1:\n",
    "                n3 = n3 - 1\n",
    "        time_steps += 1\n",
    "        \n",
    "        if n3 == 1:\n",
    "            break\n",
    "    \n",
    "    return time_steps\n",
    "        "
   ]
  },
  {
   "cell_type": "code",
   "execution_count": 16,
   "metadata": {},
   "outputs": [
    {
     "name": "stdout",
     "output_type": "stream",
     "text": [
      "[40700.6, 2901.0, 206.7]\n"
     ]
    }
   ],
   "source": [
    "N = 1000\n",
    "mu_list = [0.1/N, 1/N, 10/N]\n",
    "n2 = 0\n",
    "n3 = 0\n",
    "\n",
    "hitting_time = []\n",
    "for mu in mu_list:\n",
    "    hit_time = []\n",
    "    for i in range(0,10):\n",
    "        hit = moran_2_step(N, n2, n3, mu)\n",
    "        hit_time.append(hit)\n",
    "    hit_mean = np.mean(hit_time)\n",
    "    hitting_time.append(hit_mean)\n",
    "    \n",
    "print(hitting_time)\n",
    "\n"
   ]
  },
  {
   "cell_type": "code",
   "execution_count": 18,
   "metadata": {},
   "outputs": [
    {
     "data": {
      "text/plain": [
       "(-0.001, 0.015)"
      ]
     },
     "execution_count": 18,
     "metadata": {},
     "output_type": "execute_result"
    },
    {
     "data": {
      "image/png": "[encoded data removed]",
      "text/plain": [
       "<Figure size 432x288 with 1 Axes>"
      ]
     },
     "metadata": {
      "needs_background": "light"
     },
     "output_type": "display_data"
    }
   ],
   "source": [
    "plt.scatter(mu_list, hitting_time)\n",
    "plt.xlim(-0.001,0.015)"
   ]
  },
  {
   "cell_type": "code",
   "execution_count": null,
   "metadata": {},
   "outputs": [],
   "source": []
  }
 ],
 "metadata": {
  "kernelspec": {
   "display_name": "Python 3",
   "language": "python",
   "name": "python3"
  },
  "language_info": {
   "codemirror_mode": {
    "name": "ipython",
    "version": 3
   },
   "file_extension": ".py",
   "mimetype": "text/x-python",
   "name": "python",
   "nbconvert_exporter": "python",
   "pygments_lexer": "ipython3",
   "version": "3.7.3"
  }
 },
 "nbformat": 4,
 "nbformat_minor": 2
}
